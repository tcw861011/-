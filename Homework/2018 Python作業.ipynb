{
 "cells": [
  {
   "cell_type": "code",
   "execution_count": 10,
   "metadata": {},
   "outputs": [
    {
     "name": "stdout",
     "output_type": "stream",
     "text": [
      "59.16079783099616\n",
      "76\n"
     ]
    }
   ],
   "source": [
    "#作業一\n",
    "#輸入一個數值，判斷若小於50則開根號乘以10\n",
    "import math\n",
    "num = 35\n",
    "if num < 50 :\n",
    "    print (math.sqrt(num)*10)\n",
    "\n",
    "#輸入一個數值，判斷若小於50則開根號乘以10，否則加10\n",
    "import math\n",
    "num=66\n",
    "if num < 50 :\n",
    "    print (math.sqrt(num)*10) \n",
    "else:\n",
    "    print (num + 10)"
   ]
  },
  {
   "cell_type": "code",
   "execution_count": 28,
   "metadata": {},
   "outputs": [
    {
     "name": "stdout",
     "output_type": "stream",
     "text": [
      "C\n"
     ]
    }
   ],
   "source": [
    "#作業2\n",
    "#請依照慣例將成績分成Ａ、Ｂ、Ｃ、Ｄ與Ｅ（不及格）五個等級\n",
    "score = 70\n",
    "if score >= 90 :\n",
    "    print (\"A\")\n",
    "elif score >= 80 | score < 90 :\n",
    "    print (\"B\")\n",
    "elif score >= 70 | score < 80 :\n",
    "    print (\"C\")\n",
    "elif score >= 60 | score < 70 :\n",
    "    print (\"D\")\n",
    "else :\n",
    "    print (\"E\")"
   ]
  },
  {
   "cell_type": "code",
   "execution_count": 32,
   "metadata": {},
   "outputs": [
    {
     "name": "stdout",
     "output_type": "stream",
     "text": [
      "1 * 1 = 1  \n",
      "2 * 1 = 2  2 * 2 = 4  \n",
      "3 * 1 = 3  3 * 2 = 6  3 * 3 = 9  \n",
      "4 * 1 = 4  4 * 2 = 8  4 * 3 = 12  4 * 4 = 16  \n",
      "5 * 1 = 5  5 * 2 = 10  5 * 3 = 15  5 * 4 = 20  5 * 5 = 25  \n",
      "6 * 1 = 6  6 * 2 = 12  6 * 3 = 18  6 * 4 = 24  6 * 5 = 30  6 * 6 = 36  \n",
      "7 * 1 = 7  7 * 2 = 14  7 * 3 = 21  7 * 4 = 28  7 * 5 = 35  7 * 6 = 42  7 * 7 = 49  \n",
      "8 * 1 = 8  8 * 2 = 16  8 * 3 = 24  8 * 4 = 32  8 * 5 = 40  8 * 6 = 48  8 * 7 = 56  8 * 8 = 64  \n",
      "9 * 1 = 9  9 * 2 = 18  9 * 3 = 27  9 * 4 = 36  9 * 5 = 45  9 * 6 = 54  9 * 7 = 63  9 * 8 = 72  9 * 9 = 81  \n"
     ]
    }
   ],
   "source": [
    "#作業3\n",
    "#以巢狀迴圈產生九九乘法表\n",
    "for i in range(1,10):\n",
    "    for j in range(1,i+1):\n",
    "        print(i,\"*\",j,\"=\",i * j,end=\"  \")\n",
    "    print()"
   ]
  },
  {
   "cell_type": "code",
   "execution_count": 26,
   "metadata": {},
   "outputs": [
    {
     "name": "stdout",
     "output_type": "stream",
     "text": [
      "請輸入金額 :10000\n",
      "請輸入年收益率 :6.7\n",
      "請輸入月份數 :16\n",
      "Month \t Amount\n",
      "  1 \t 10055.83\n",
      "  2 \t 10111.98\n",
      "  3 \t 10168.44\n",
      "  4 \t 10225.21\n",
      "  5 \t 10282.30\n",
      "  6 \t 10339.71\n",
      "  7 \t 10397.44\n",
      "  8 \t 10455.49\n",
      "  9 \t 10513.87\n",
      " 10 \t 10572.57\n",
      " 11 \t 10631.60\n",
      " 12 \t 10690.96\n",
      " 13 \t 10750.65\n",
      " 14 \t 10810.68\n",
      " 15 \t 10871.04\n",
      " 16 \t 10931.73\n"
     ]
    }
   ],
   "source": [
    "#作業4\n",
    "#請使用迴圈敘述撰寫一個程式，提示使用者輸入金額、年收益率、以及經過的月份數，接著顯示每個月的存款總額\n",
    "amount = int(input(\"請輸入金額 :\"))\n",
    "rate = float(input(\"請輸入年收益率 :\"))\n",
    "month = int(input(\"請輸入月份數 :\"))\n",
    "\n",
    "total = amount\n",
    "print ('%s \\t %s' %('Month' , 'Amount'))\n",
    "                    \n",
    "for i in range (1, month + 1) :\n",
    "    total += total * rate / 1200 \n",
    "    print('%3d \\t %.2f' %(i, total))"
   ]
  }
 ],
 "metadata": {
  "kernelspec": {
   "display_name": "Python 3",
   "language": "python",
   "name": "python3"
  },
  "language_info": {
   "codemirror_mode": {
    "name": "ipython",
    "version": 3
   },
   "file_extension": ".py",
   "mimetype": "text/x-python",
   "name": "python",
   "nbconvert_exporter": "python",
   "pygments_lexer": "ipython3",
   "version": "3.6.5"
  }
 },
 "nbformat": 4,
 "nbformat_minor": 2
}

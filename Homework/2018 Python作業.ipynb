{
 "cells": [
  {
   "cell_type": "code",
   "execution_count": 10,
   "metadata": {},
   "outputs": [
    {
     "name": "stdout",
     "output_type": "stream",
     "text": [
      "59.16079783099616\n",
      "76\n"
     ]
    }
   ],
   "source": [
    "#作業一\n",
    "#輸入一個數值，判斷若小於50則開根號乘以10\n",
    "import math\n",
    "num = 35\n",
    "if num < 50 :\n",
    "    print (math.sqrt(num)*10)\n",
    "\n",
    "#輸入一個數值，判斷若小於50則開根號乘以10，否則加10\n",
    "import math\n",
    "num=66\n",
    "if num < 50 :\n",
    "    print (math.sqrt(num)*10) \n",
    "else:\n",
    "    print (num + 10)"
   ]
  },
  {
   "cell_type": "code",
   "execution_count": 30,
   "metadata": {},
   "outputs": [
    {
     "ename": "IndentationError",
     "evalue": "unindent does not match any outer indentation level (<ipython-input-30-c7e13526f940>, line 5)",
     "output_type": "error",
     "traceback": [
      "\u001b[1;36m  File \u001b[1;32m\"<ipython-input-30-c7e13526f940>\"\u001b[1;36m, line \u001b[1;32m5\u001b[0m\n\u001b[1;33m    elif score >= 80 | score < 90 :\u001b[0m\n\u001b[1;37m                                    ^\u001b[0m\n\u001b[1;31mIndentationError\u001b[0m\u001b[1;31m:\u001b[0m unindent does not match any outer indentation level\n"
     ]
    }
   ],
   "source": [
    "#作業2\n",
    "#請依照慣例將成績分成Ａ、Ｂ、Ｃ、Ｄ與Ｅ（不及格）五個等級\n",
    "if score <= 90 :\n",
    "        print(\"A\")\n",
    "    elif score >= 80 | score < 90 : \n",
    "        print(\"B\")\n",
    "    elif score >= 70 | score < 80 :  \n",
    "        print(\"C\")\n",
    "    elif score >= 60 | score < 70 :\n",
    "        print(\"D\")\n",
    "    else :\n",
    "        print(\"E\")"
   ]
  },
  {
   "cell_type": "code",
   "execution_count": 32,
   "metadata": {},
   "outputs": [
    {
     "name": "stdout",
     "output_type": "stream",
     "text": [
      "1 * 1 = 1  \n",
      "2 * 1 = 2  2 * 2 = 4  \n",
      "3 * 1 = 3  3 * 2 = 6  3 * 3 = 9  \n",
      "4 * 1 = 4  4 * 2 = 8  4 * 3 = 12  4 * 4 = 16  \n",
      "5 * 1 = 5  5 * 2 = 10  5 * 3 = 15  5 * 4 = 20  5 * 5 = 25  \n",
      "6 * 1 = 6  6 * 2 = 12  6 * 3 = 18  6 * 4 = 24  6 * 5 = 30  6 * 6 = 36  \n",
      "7 * 1 = 7  7 * 2 = 14  7 * 3 = 21  7 * 4 = 28  7 * 5 = 35  7 * 6 = 42  7 * 7 = 49  \n",
      "8 * 1 = 8  8 * 2 = 16  8 * 3 = 24  8 * 4 = 32  8 * 5 = 40  8 * 6 = 48  8 * 7 = 56  8 * 8 = 64  \n",
      "9 * 1 = 9  9 * 2 = 18  9 * 3 = 27  9 * 4 = 36  9 * 5 = 45  9 * 6 = 54  9 * 7 = 63  9 * 8 = 72  9 * 9 = 81  \n"
     ]
    }
   ],
   "source": [
    "#作業3\n",
    "#以巢狀迴圈產生九九乘法表\n",
    "for i in range(1,10):\n",
    "    for j in range(1,i+1):\n",
    "        print(i,\"*\",j,\"=\",i * j,end=\"  \")\n",
    "    print()"
   ]
  },
  {
   "cell_type": "code",
   "execution_count": 53,
   "metadata": {},
   "outputs": [
    {
     "ename": "SyntaxError",
     "evalue": "invalid syntax (<ipython-input-53-f8c9d3cb6177>, line 7)",
     "output_type": "error",
     "traceback": [
      "\u001b[1;36m  File \u001b[1;32m\"<ipython-input-53-f8c9d3cb6177>\"\u001b[1;36m, line \u001b[1;32m7\u001b[0m\n\u001b[1;33m    for i in range(1, i)\u001b[0m\n\u001b[1;37m                        ^\u001b[0m\n\u001b[1;31mSyntaxError\u001b[0m\u001b[1;31m:\u001b[0m invalid syntax\n"
     ]
    }
   ],
   "source": [
    "#作業4\n",
    "#請使用迴圈敘述撰寫一個程式，提示使用者輸入金額、年收益率、以及經過的月份數，接著顯示每個月的存款總額\n",
    "money = input(\"請輸入金額\")\n",
    "rate = input(\"請輸入年收益率\")\n",
    "month = input(\"請輸入經過的月份數\")\n",
    "\n",
    "for i in range(1, )\n",
    "    money = money * rate + money \n",
    "print(i,\"\\t\\t\",\"存款總額\")"
   ]
  },
  {
   "cell_type": "code",
   "execution_count": null,
   "metadata": {},
   "outputs": [],
   "source": []
  }
 ],
 "metadata": {
  "kernelspec": {
   "display_name": "Python 3",
   "language": "python",
   "name": "python3"
  },
  "language_info": {
   "codemirror_mode": {
    "name": "ipython",
    "version": 3
   },
   "file_extension": ".py",
   "mimetype": "text/x-python",
   "name": "python",
   "nbconvert_exporter": "python",
   "pygments_lexer": "ipython3",
   "version": "3.6.5"
  }
 },
 "nbformat": 4,
 "nbformat_minor": 2
}

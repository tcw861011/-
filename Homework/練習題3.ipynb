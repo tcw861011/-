{
 "cells": [
  {
   "cell_type": "code",
   "execution_count": 8,
   "metadata": {},
   "outputs": [
    {
     "name": "stdout",
     "output_type": "stream",
     "text": [
      "Help on function circle_area in module __main__:\n",
      "\n",
      "circle_area(r)\n",
      "    輸入半徑長度可以計算出圓面積\n",
      "\n",
      "28.274333882308138\n",
      "Help on function circle_circum in module __main__:\n",
      "\n",
      "circle_circum(r)\n",
      "    輸入半徑長度可以計算出圓周長\n",
      "\n",
      "18.84955592153876\n"
     ]
    }
   ],
   "source": [
    "# 隨堂練習：計算圓面積與周長的函數\n",
    "import math \n",
    "\n",
    "def circle_area(r):\n",
    "\n",
    "    '輸入半徑長度可以計算出圓面積'\n",
    "\n",
    "    return math.pi * r ** 2\n",
    "\n",
    "help (circle_area)\n",
    "print (circle_area(3))\n",
    "\n",
    "\n",
    "import math \n",
    "\n",
    "def circle_circum(r):\n",
    "\n",
    "    '輸入半徑長度可以計算出圓周長'\n",
    "\n",
    "    return 2 * math.pi * r\n",
    "\n",
    "help (circle_circum)\n",
    "print (circle_circum(3))"
   ]
  },
  {
   "cell_type": "code",
   "execution_count": 2,
   "metadata": {},
   "outputs": [
    {
     "data": {
      "text/plain": [
       "10"
      ]
     },
     "execution_count": 2,
     "metadata": {},
     "output_type": "execute_result"
    }
   ],
   "source": [
    "# 隨堂練習:自訂 my_len() 函數\n",
    "def my_len(x):\n",
    "\n",
    "    '計算輸入 list 中有幾個元素'\n",
    "\n",
    "    cnt = 0\n",
    "\n",
    "    for i in x:\n",
    "\n",
    "        cnt += 1\n",
    "\n",
    "    return cnt\n",
    "\n",
    "\n",
    "\n",
    "num_list = range(1, 11)\n",
    "\n",
    "my_len(num_list) # 計算 num_list 中有幾個數字"
   ]
  },
  {
   "cell_type": "code",
   "execution_count": 3,
   "metadata": {},
   "outputs": [
    {
     "data": {
      "text/plain": [
       "55"
      ]
     },
     "execution_count": 3,
     "metadata": {},
     "output_type": "execute_result"
    }
   ],
   "source": [
    "# 隨堂練習：自訂 my_sum() 函數\n",
    "def my_sum(x):\n",
    "\n",
    "    '計算輸入 list 中的數字加總'\n",
    "\n",
    "    summation = 0\n",
    "\n",
    "    for i in x:\n",
    "\n",
    "        summation += i\n",
    "\n",
    "    return summation\n",
    "\n",
    "\n",
    "num_list = range(1, 11)\n",
    "\n",
    "my_sum(num_list) # 計算 num_list 中數字的加總"
   ]
  },
  {
   "cell_type": "code",
   "execution_count": 4,
   "metadata": {},
   "outputs": [
    {
     "data": {
      "text/plain": [
       "5.5"
      ]
     },
     "execution_count": 4,
     "metadata": {},
     "output_type": "execute_result"
    }
   ],
   "source": [
    "# 隨堂練習：自訂 my_mean() 函數\n",
    "def my_mean(x):\n",
    "\n",
    "    '計算輸入 list 中的數字平均數'\n",
    "\n",
    "    cnt = 0\n",
    "\n",
    "    summation = 0.0\n",
    "\n",
    "    for i in x:\n",
    "\n",
    "        cnt += 1\n",
    "\n",
    "        summation += i\n",
    "\n",
    "    return (summation / cnt)\n",
    "\n",
    "\n",
    "\n",
    "num_list = range(1, 11)\n",
    "\n",
    "my_mean(num_list) # 計算 num_list 中數字的平均數"
   ]
  }
 ],
 "metadata": {
  "kernelspec": {
   "display_name": "Python 3",
   "language": "python",
   "name": "python3"
  },
  "language_info": {
   "codemirror_mode": {
    "name": "ipython",
    "version": 3
   },
   "file_extension": ".py",
   "mimetype": "text/x-python",
   "name": "python",
   "nbconvert_exporter": "python",
   "pygments_lexer": "ipython3",
   "version": "3.6.5"
  }
 },
 "nbformat": 4,
 "nbformat_minor": 2
}
